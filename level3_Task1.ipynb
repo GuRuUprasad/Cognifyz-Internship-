{
  "nbformat": 4,
  "nbformat_minor": 0,
  "metadata": {
    "colab": {
      "provenance": []
    },
    "kernelspec": {
      "name": "python3",
      "display_name": "Python 3"
    },
    "language_info": {
      "name": "python"
    }
  },
  "cells": [
    {
      "cell_type": "code",
      "source": [
        "import pandas as pd\n",
        "import numpy as np\n",
        "from sklearn.model_selection import train_test_split\n",
        "from sklearn.linear_model import LinearRegression\n",
        "from sklearn.tree import DecisionTreeRegressor\n",
        "from sklearn.ensemble import RandomForestRegressor\n",
        "from sklearn.metrics import mean_squared_error, r2_score"
      ],
      "metadata": {
        "id": "0Xs8cSDR94aH"
      },
      "execution_count": 1,
      "outputs": []
    },
    {
      "cell_type": "markdown",
      "source": [
        "Reading Data set"
      ],
      "metadata": {
        "id": "sVGFrCtY3bvj"
      }
    },
    {
      "cell_type": "code",
      "source": [
        "df = pd.read_csv('Dataset .csv')"
      ],
      "metadata": {
        "id": "HzU7iMr899yt"
      },
      "execution_count": 2,
      "outputs": []
    },
    {
      "cell_type": "markdown",
      "source": [
        "Training and Testing sets"
      ],
      "metadata": {
        "id": "NH6fIpLe4FHd"
      }
    },
    {
      "cell_type": "code",
      "source": [
        "features = ['Price range', 'Votes']\n",
        "X = df[features]\n",
        "y = df['Aggregate rating']"
      ],
      "metadata": {
        "id": "NuCTln8Y-jaf"
      },
      "execution_count": 3,
      "outputs": []
    },
    {
      "cell_type": "code",
      "source": [
        "X_train, X_test, y_train, y_test = train_test_split(X, y, test_size=0.2, random_state=42)"
      ],
      "metadata": {
        "id": "nU6ebWpLANuo"
      },
      "execution_count": 4,
      "outputs": []
    },
    {
      "cell_type": "markdown",
      "source": [
        "Linear Regression"
      ],
      "metadata": {
        "id": "wKgVnkUl43QX"
      }
    },
    {
      "cell_type": "code",
      "source": [
        "linear_model = LinearRegression()\n",
        "linear_model.fit(X_train, y_train)\n",
        "linear_predictions = linear_model.predict(X_test)\n",
        "\n",
        "print(\"Linear Regression Metrics:\")\n",
        "print(\"Mean Squared Error:\", mean_squared_error(y_test, linear_predictions))\n",
        "print(\"R-squared (R2) Score:\", r2_score(y_test, linear_predictions))"
      ],
      "metadata": {
        "id": "ZkacULIOIVjm",
        "colab": {
          "base_uri": "https://localhost:8080/"
        },
        "outputId": "7ee4bcba-be59-414c-b158-c73b8055aed7"
      },
      "execution_count": 11,
      "outputs": [
        {
          "output_type": "stream",
          "name": "stdout",
          "text": [
            "Linear Regression Metrics:\n",
            "Mean Squared Error: 1.7601379937534127\n",
            "R-squared (R2) Score: 0.22668993389719627\n"
          ]
        }
      ]
    },
    {
      "cell_type": "markdown",
      "source": [
        "Decision Tree"
      ],
      "metadata": {
        "id": "fJSdupqS47tQ"
      }
    },
    {
      "cell_type": "code",
      "source": [
        "decision_tree_model = DecisionTreeRegressor()\n",
        "decision_tree_model.fit(X_train, y_train)\n",
        "dt_predictions = decision_tree_model.predict(X_test)\n",
        "\n",
        "print(\"\\nDecision Tree Metrics:\")\n",
        "print(\"Mean Squared Error:\", mean_squared_error(y_test, dt_predictions))\n",
        "print(\"R-squared (R2) Score:\", r2_score(y_test, dt_predictions))"
      ],
      "metadata": {
        "id": "MbSpenJLIwF-",
        "colab": {
          "base_uri": "https://localhost:8080/"
        },
        "outputId": "6c92e82e-a898-4d35-c3c2-2491b33baadd"
      },
      "execution_count": 10,
      "outputs": [
        {
          "output_type": "stream",
          "name": "stdout",
          "text": [
            "\n",
            "Decision Tree Metrics:\n",
            "Mean Squared Error: 0.18459455066504932\n",
            "R-squared (R2) Score: 0.9188990722979615\n"
          ]
        }
      ]
    },
    {
      "cell_type": "markdown",
      "source": [
        "Random Forest"
      ],
      "metadata": {
        "id": "XMG2swT55Bw6"
      }
    },
    {
      "cell_type": "code",
      "source": [
        "random_forest_model = RandomForestRegressor()\n",
        "random_forest_model.fit(X_train, y_train)\n",
        "rf_predictions = random_forest_model.predict(X_test)\n",
        "\n",
        "print(\"\\nRandom Forest Metrics:\")\n",
        "print(\"Mean Squared Error:\", mean_squared_error(y_test, rf_predictions))\n",
        "print(\"R-squared (R2) Score:\", r2_score(y_test, rf_predictions))"
      ],
      "metadata": {
        "colab": {
          "base_uri": "https://localhost:8080/"
        },
        "id": "36j0S8qqI2Vt",
        "outputId": "fdabe908-e598-40be-8e53-3af29a9ba7c4"
      },
      "execution_count": 9,
      "outputs": [
        {
          "output_type": "stream",
          "name": "stdout",
          "text": [
            "\n",
            "Random Forest Metrics:\n",
            "Mean Squared Error: 0.15928311385641125\n",
            "R-squared (R2) Score: 0.9300195577037137\n"
          ]
        }
      ]
    }
  ]
}